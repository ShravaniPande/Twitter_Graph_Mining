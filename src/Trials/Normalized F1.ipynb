{
 "cells": [
  {
   "cell_type": "code",
   "execution_count": 1,
   "metadata": {},
   "outputs": [],
   "source": [
    "# ! python -m pip install nf1"
   ]
  },
  {
   "cell_type": "code",
   "execution_count": 2,
   "metadata": {},
   "outputs": [],
   "source": [
    "from nf1 import NF1"
   ]
  },
  {
   "cell_type": "code",
   "execution_count": 3,
   "metadata": {},
   "outputs": [],
   "source": [
    "import os \n",
    "import glob\n",
    "import sklearn.cluster\n",
    "\n",
    "circles_files = glob.glob(\"twitter/*.circles\")\n",
    "edges_files = glob.glob(\"twitter/*.edges\")\n",
    "egofeat_files = glob.glob(\"twitter/*.egofeat\")\n",
    "feat_files = glob.glob(\"twitter/*.feat\")\n",
    "featnames_files = glob.glob(\"twitter/*.featnames\")"
   ]
  },
  {
   "cell_type": "code",
   "execution_count": 4,
   "metadata": {},
   "outputs": [],
   "source": [
    "import numpy as np"
   ]
  },
  {
   "cell_type": "code",
   "execution_count": 5,
   "metadata": {},
   "outputs": [],
   "source": [
    "from networkx.algorithms import community\n"
   ]
  },
  {
   "cell_type": "code",
   "execution_count": 6,
   "metadata": {},
   "outputs": [],
   "source": [
    "from networkx.algorithms.community import greedy_modularity_communities"
   ]
  },
  {
   "cell_type": "code",
   "execution_count": 7,
   "metadata": {},
   "outputs": [],
   "source": [
    "%matplotlib inline\n",
    "import networkx as nx\n"
   ]
  },
  {
   "cell_type": "code",
   "execution_count": 8,
   "metadata": {},
   "outputs": [],
   "source": [
    "def read_nodeadjlist(filename):\n",
    "    G = nx.Graph()\n",
    "    for line in open(filename):\n",
    "        lst = line.split(' ')\n",
    "        el, es = lst[0], lst[1][:-1]\n",
    "        G.add_edge(int(el),int(es))\n",
    "    return G"
   ]
  },
  {
   "cell_type": "code",
   "execution_count": 9,
   "metadata": {},
   "outputs": [],
   "source": [
    "G1 = read_nodeadjlist(\"twitter/356963.edges\")\n"
   ]
  },
  {
   "cell_type": "code",
   "execution_count": 10,
   "metadata": {},
   "outputs": [],
   "source": [
    "egoNodeList = []\n",
    "for item in circles_files:\n",
    "    twitter, circleFilename = item.split(\"\\\\\")\n",
    "    filename, abcd = circleFilename.split(\".\")\n",
    "    egoNodeList.append(filename)"
   ]
  },
  {
   "cell_type": "code",
   "execution_count": 11,
   "metadata": {},
   "outputs": [],
   "source": [
    "filterNodeList = []\n",
    "num_lines_len = []\n",
    "for item in edges_files:\n",
    "    num_lines = sum(1 for line in open(item))\n",
    "    num_lines_len.append(num_lines)\n",
    "    if num_lines < 2300:\n",
    "        twitter, circleFilename = item.split(\"\\\\\")\n",
    "        filename, abcd = circleFilename.split(\".\")\n",
    "        filterNodeList.append(filename)"
   ]
  },
  {
   "cell_type": "code",
   "execution_count": 12,
   "metadata": {},
   "outputs": [
    {
     "data": {
      "text/plain": [
       "583"
      ]
     },
     "execution_count": 12,
     "metadata": {},
     "output_type": "execute_result"
    }
   ],
   "source": [
    "len(filterNodeList)"
   ]
  },
  {
   "cell_type": "code",
   "execution_count": 13,
   "metadata": {},
   "outputs": [],
   "source": [
    "filterCircleList = []\n",
    "for item in filterNodeList:\n",
    "    circle_file= \"twitter/\"+item+\".circles\"\n",
    "    num_lines = sum(1 for line in open(circle_file))\n",
    "    if num_lines!=0:\n",
    "        filterCircleList.append(item)"
   ]
  },
  {
   "cell_type": "code",
   "execution_count": 14,
   "metadata": {},
   "outputs": [
    {
     "data": {
      "text/plain": [
       "554"
      ]
     },
     "execution_count": 14,
     "metadata": {},
     "output_type": "execute_result"
    }
   ],
   "source": [
    "len(filterCircleList)"
   ]
  },
  {
   "cell_type": "code",
   "execution_count": 15,
   "metadata": {},
   "outputs": [],
   "source": [
    "import scipy"
   ]
  },
  {
   "cell_type": "code",
   "execution_count": 16,
   "metadata": {},
   "outputs": [
    {
     "data": {
      "text/plain": [
       "DescribeResult(nobs=973, minmax=(5, 17930), mean=2350.3689619732786, variance=4751824.3976776255, skewness=1.7585338045200303, kurtosis=5.373024752117312)"
      ]
     },
     "execution_count": 16,
     "metadata": {},
     "output_type": "execute_result"
    }
   ],
   "source": [
    "scipy.stats.describe(num_lines_len)"
   ]
  },
  {
   "cell_type": "code",
   "execution_count": null,
   "metadata": {},
   "outputs": [],
   "source": []
  },
  {
   "cell_type": "code",
   "execution_count": 17,
   "metadata": {},
   "outputs": [
    {
     "data": {
      "text/plain": [
       "17930"
      ]
     },
     "execution_count": 17,
     "metadata": {},
     "output_type": "execute_result"
    }
   ],
   "source": [
    "max(num_lines_len)"
   ]
  },
  {
   "cell_type": "code",
   "execution_count": 18,
   "metadata": {},
   "outputs": [],
   "source": [
    "rev_ego =egoNodeList[::-1]"
   ]
  },
  {
   "cell_type": "code",
   "execution_count": 19,
   "metadata": {},
   "outputs": [],
   "source": [
    "def computeKClique(inputG, k):\n",
    "    kclique = list(community.k_clique_communities(inputG , k))\n",
    "    kcoms = [tuple(x) for x in kclique]\n",
    "    return kcoms"
   ]
  },
  {
   "cell_type": "code",
   "execution_count": 20,
   "metadata": {},
   "outputs": [
    {
     "data": {
      "text/plain": [
       "[(17853760, 16129920, 16303106, 145753059, 15814666, 755603, 641433, 1501471),\n",
       " (16129920,\n",
       "  5413762,\n",
       "  9870342,\n",
       "  136055942,\n",
       "  509323,\n",
       "  91718540,\n",
       "  39782670,\n",
       "  755603,\n",
       "  2029971,\n",
       "  15780631,\n",
       "  68571415,\n",
       "  19579040,\n",
       "  35702691,\n",
       "  17870501,\n",
       "  13607,\n",
       "  16107051,\n",
       "  6598572,\n",
       "  14958507,\n",
       "  199032495,\n",
       "  21931952,\n",
       "  19996594,\n",
       "  12600372,\n",
       "  14120253,\n",
       "  17643774,\n",
       "  27463744,\n",
       "  259110723,\n",
       "  44984134,\n",
       "  216126534,\n",
       "  16901455,\n",
       "  17870415,\n",
       "  18681592,\n",
       "  618593,\n",
       "  50888802,\n",
       "  15527013,\n",
       "  16530279,\n",
       "  197141866,\n",
       "  57186667,\n",
       "  21523946,\n",
       "  15456622,\n",
       "  95822575,\n",
       "  85416304,\n",
       "  21212145,\n",
       "  9406452,\n",
       "  18030840,\n",
       "  7183482,\n",
       "  38272894),\n",
       " (618593, 14667274, 15456622, 11340982),\n",
       " (10266802, 131884083, 61819621, 27242126),\n",
       " (809760, 1471021, 755603, 11340982, 641433),\n",
       " (618593, 145753059, 428333, 1057431),\n",
       " (4519121, 10266802, 11340982, 818489, 3839),\n",
       " (17129546, 16457564, 15527013, 90630206)]"
      ]
     },
     "execution_count": 20,
     "metadata": {},
     "output_type": "execute_result"
    }
   ],
   "source": [
    "computeKClique(G1,4)"
   ]
  },
  {
   "cell_type": "code",
   "execution_count": null,
   "metadata": {},
   "outputs": [],
   "source": []
  },
  {
   "cell_type": "code",
   "execution_count": 21,
   "metadata": {},
   "outputs": [],
   "source": [
    "# cnt = 0\n",
    "# Final_op = {}\n",
    "# for ego in rev_ego:\n",
    "#     print(ego)\n",
    "#     ego_G = read_nodeadjlist(\"twitter/\"+ego+\".edges\")\n",
    "#     kcoms = computeKClique(ego_G,4)\n",
    "#     Final_op[ego] = kcoms\n",
    "#     cnt+=1\n",
    "#     print(cnt)"
   ]
  },
  {
   "cell_type": "code",
   "execution_count": 22,
   "metadata": {},
   "outputs": [],
   "source": [
    "ego = \"356963\""
   ]
  },
  {
   "cell_type": "code",
   "execution_count": 23,
   "metadata": {},
   "outputs": [],
   "source": [
    "ego_G = read_nodeadjlist(\"twitter/\"+ego+\".edges\")"
   ]
  },
  {
   "cell_type": "code",
   "execution_count": 24,
   "metadata": {},
   "outputs": [
    {
     "data": {
      "text/plain": [
       "126"
      ]
     },
     "execution_count": 24,
     "metadata": {},
     "output_type": "execute_result"
    }
   ],
   "source": [
    "len(ego_G)"
   ]
  },
  {
   "cell_type": "code",
   "execution_count": 25,
   "metadata": {},
   "outputs": [],
   "source": [
    "kclique = list(community.k_clique_communities(ego_G , 4))\n",
    "kcoms = [tuple(x) for x in kclique]"
   ]
  },
  {
   "cell_type": "code",
   "execution_count": 27,
   "metadata": {},
   "outputs": [],
   "source": [
    "lp = list(community.label_propagation_communities(ego_G))\n",
    "lpcoms = [tuple(x) for x in lp]"
   ]
  },
  {
   "cell_type": "code",
   "execution_count": 28,
   "metadata": {},
   "outputs": [
    {
     "data": {
      "text/plain": [
       "[(19323197, 7985982),\n",
       " (44655553, 131884083, 61819621, 27242126),\n",
       " (76561747, 51808935),\n",
       " (17964423, 36182824, 14538601, 14538636, 9453872, 5637652),\n",
       " (16575213, 16953895),\n",
       " (18660360, 31352453),\n",
       " (17814635, 678083),\n",
       " (16303106,\n",
       "  9663492,\n",
       "  9870342,\n",
       "  19320328,\n",
       "  15814666,\n",
       "  14667274,\n",
       "  1899531,\n",
       "  31986700,\n",
       "  13274152,\n",
       "  16107051,\n",
       "  1471021,\n",
       "  35432497,\n",
       "  12600372,\n",
       "  18729020,\n",
       "  90630206,\n",
       "  27463744,\n",
       "  216126534,\n",
       "  17293897,\n",
       "  17129546,\n",
       "  17870415,\n",
       "  22559840,\n",
       "  618593,\n",
       "  50888802,\n",
       "  15527013,\n",
       "  18103410,\n",
       "  16339573,\n",
       "  7183482,\n",
       "  15567998,\n",
       "  136055942,\n",
       "  15312009,\n",
       "  1057431,\n",
       "  19579040,\n",
       "  17870501,\n",
       "  45919912,\n",
       "  199032495,\n",
       "  10266802,\n",
       "  11340982,\n",
       "  15028425,\n",
       "  4519121,\n",
       "  83883736,\n",
       "  16657117,\n",
       "  18344173,\n",
       "  29674222,\n",
       "  95822575,\n",
       "  22093555,\n",
       "  18681592,\n",
       "  32907513,\n",
       "  18030840,\n",
       "  10452732,\n",
       "  17643774,\n",
       "  3839,\n",
       "  24008967,\n",
       "  39782670,\n",
       "  68571415,\n",
       "  15780631,\n",
       "  14120215,\n",
       "  18166557,\n",
       "  1501471,\n",
       "  809760,\n",
       "  13607,\n",
       "  428333,\n",
       "  818489,\n",
       "  14120253,\n",
       "  17853760,\n",
       "  259110723,\n",
       "  44984134,\n",
       "  16901455,\n",
       "  16457564,\n",
       "  80273245,\n",
       "  16530279,\n",
       "  126881128,\n",
       "  197141866,\n",
       "  57186667,\n",
       "  15456622,\n",
       "  85416304,\n",
       "  15666545,\n",
       "  51662201,\n",
       "  38272894,\n",
       "  16129920,\n",
       "  5413762,\n",
       "  509323,\n",
       "  91718540,\n",
       "  75321229,\n",
       "  755603,\n",
       "  2029971,\n",
       "  641433,\n",
       "  109118877,\n",
       "  35702691,\n",
       "  16974245,\n",
       "  24608680,\n",
       "  14958507,\n",
       "  6598572,\n",
       "  21931952,\n",
       "  19996594,\n",
       "  14973377,\n",
       "  145753059,\n",
       "  16871402,\n",
       "  21523946,\n",
       "  14294508,\n",
       "  14179822,\n",
       "  21212145,\n",
       "  15534579,\n",
       "  9406452),\n",
       " (41170823, 32765534, 21346559)]"
      ]
     },
     "execution_count": 28,
     "metadata": {},
     "output_type": "execute_result"
    }
   ],
   "source": [
    "lpcoms"
   ]
  },
  {
   "cell_type": "code",
   "execution_count": 30,
   "metadata": {},
   "outputs": [],
   "source": [
    "communities_generator = community.girvan_newman(ego_G)\n"
   ]
  },
  {
   "cell_type": "code",
   "execution_count": 31,
   "metadata": {},
   "outputs": [],
   "source": [
    "top_level_communities = next(communities_generator)\n",
    "next_level_communities = next(communities_generator)\n"
   ]
  },
  {
   "cell_type": "code",
   "execution_count": 32,
   "metadata": {},
   "outputs": [],
   "source": [
    "gn_comm = sorted(map(sorted, next_level_communities))"
   ]
  },
  {
   "cell_type": "code",
   "execution_count": 33,
   "metadata": {},
   "outputs": [
    {
     "data": {
      "text/plain": [
       "[[3839,\n",
       "  13607,\n",
       "  428333,\n",
       "  509323,\n",
       "  618593,\n",
       "  641433,\n",
       "  678083,\n",
       "  755603,\n",
       "  809760,\n",
       "  818489,\n",
       "  1057431,\n",
       "  1471021,\n",
       "  1501471,\n",
       "  1899531,\n",
       "  2029971,\n",
       "  4519121,\n",
       "  5413762,\n",
       "  5637652,\n",
       "  6598572,\n",
       "  7183482,\n",
       "  9406452,\n",
       "  9453872,\n",
       "  9663492,\n",
       "  9870342,\n",
       "  10266802,\n",
       "  10452732,\n",
       "  11340982,\n",
       "  12600372,\n",
       "  13274152,\n",
       "  14120215,\n",
       "  14120253,\n",
       "  14179822,\n",
       "  14294508,\n",
       "  14538601,\n",
       "  14538636,\n",
       "  14667274,\n",
       "  14958507,\n",
       "  14973377,\n",
       "  15028425,\n",
       "  15312009,\n",
       "  15456622,\n",
       "  15527013,\n",
       "  15534579,\n",
       "  15666545,\n",
       "  15780631,\n",
       "  15814666,\n",
       "  16107051,\n",
       "  16129920,\n",
       "  16303106,\n",
       "  16339573,\n",
       "  16457564,\n",
       "  16530279,\n",
       "  16657117,\n",
       "  16871402,\n",
       "  16901455,\n",
       "  16974245,\n",
       "  17129546,\n",
       "  17293897,\n",
       "  17643774,\n",
       "  17814635,\n",
       "  17853760,\n",
       "  17870415,\n",
       "  17870501,\n",
       "  17964423,\n",
       "  18030840,\n",
       "  18103410,\n",
       "  18166557,\n",
       "  18344173,\n",
       "  18681592,\n",
       "  18729020,\n",
       "  19320328,\n",
       "  19579040,\n",
       "  19996594,\n",
       "  21212145,\n",
       "  21346559,\n",
       "  21523946,\n",
       "  21931952,\n",
       "  22093555,\n",
       "  22559840,\n",
       "  24008967,\n",
       "  24608680,\n",
       "  27242126,\n",
       "  27463744,\n",
       "  29674222,\n",
       "  31986700,\n",
       "  32765534,\n",
       "  32907513,\n",
       "  35432497,\n",
       "  35702691,\n",
       "  36182824,\n",
       "  38272894,\n",
       "  39782670,\n",
       "  41170823,\n",
       "  44655553,\n",
       "  44984134,\n",
       "  45919912,\n",
       "  50888802,\n",
       "  51662201,\n",
       "  57186667,\n",
       "  61819621,\n",
       "  68571415,\n",
       "  75321229,\n",
       "  80273245,\n",
       "  83883736,\n",
       "  85416304,\n",
       "  90630206,\n",
       "  91718540,\n",
       "  95822575,\n",
       "  109118877,\n",
       "  126881128,\n",
       "  131884083,\n",
       "  136055942,\n",
       "  145753059,\n",
       "  197141866,\n",
       "  199032495,\n",
       "  216126534,\n",
       "  259110723],\n",
       " [7985982, 19323197, 51808935, 76561747],\n",
       " [15567998, 18660360, 31352453],\n",
       " [16575213, 16953895]]"
      ]
     },
     "execution_count": 33,
     "metadata": {},
     "output_type": "execute_result"
    }
   ],
   "source": [
    "gn_comm"
   ]
  },
  {
   "cell_type": "code",
   "execution_count": 35,
   "metadata": {},
   "outputs": [],
   "source": [
    "c = list(greedy_modularity_communities(ego_G))"
   ]
  },
  {
   "cell_type": "code",
   "execution_count": 36,
   "metadata": {},
   "outputs": [
    {
     "data": {
      "text/plain": [
       "[frozenset({3839,\n",
       "            428333,\n",
       "            618593,\n",
       "            641433,\n",
       "            678083,\n",
       "            755603,\n",
       "            809760,\n",
       "            818489,\n",
       "            1057431,\n",
       "            1471021,\n",
       "            1501471,\n",
       "            1899531,\n",
       "            4519121,\n",
       "            5637652,\n",
       "            9453872,\n",
       "            10266802,\n",
       "            10452732,\n",
       "            11340982,\n",
       "            14179822,\n",
       "            14294508,\n",
       "            14538601,\n",
       "            14538636,\n",
       "            14667274,\n",
       "            14973377,\n",
       "            15028425,\n",
       "            15456622,\n",
       "            15814666,\n",
       "            16129920,\n",
       "            16303106,\n",
       "            16657117,\n",
       "            16974245,\n",
       "            17293897,\n",
       "            17814635,\n",
       "            17853760,\n",
       "            17964423,\n",
       "            18103410,\n",
       "            18166557,\n",
       "            18344173,\n",
       "            18729020,\n",
       "            22559840,\n",
       "            24008967,\n",
       "            24608680,\n",
       "            27242126,\n",
       "            35432497,\n",
       "            36182824,\n",
       "            44655553,\n",
       "            45919912,\n",
       "            61819621,\n",
       "            80273245,\n",
       "            83883736,\n",
       "            109118877,\n",
       "            126881128,\n",
       "            131884083,\n",
       "            145753059}),\n",
       " frozenset({2029971,\n",
       "            5413762,\n",
       "            7183482,\n",
       "            9406452,\n",
       "            9663492,\n",
       "            14120253,\n",
       "            14958507,\n",
       "            15527013,\n",
       "            15534579,\n",
       "            15780631,\n",
       "            16107051,\n",
       "            16339573,\n",
       "            16530279,\n",
       "            16901455,\n",
       "            17643774,\n",
       "            17870415,\n",
       "            17870501,\n",
       "            18681592,\n",
       "            19320328,\n",
       "            19579040,\n",
       "            21212145,\n",
       "            21931952,\n",
       "            27463744,\n",
       "            29674222,\n",
       "            38272894,\n",
       "            39782670,\n",
       "            50888802,\n",
       "            51662201,\n",
       "            57186667,\n",
       "            75321229,\n",
       "            85416304,\n",
       "            91718540,\n",
       "            95822575,\n",
       "            136055942,\n",
       "            197141866,\n",
       "            199032495,\n",
       "            216126534,\n",
       "            259110723}),\n",
       " frozenset({13607,\n",
       "            509323,\n",
       "            6598572,\n",
       "            9870342,\n",
       "            12600372,\n",
       "            13274152,\n",
       "            15312009,\n",
       "            16871402,\n",
       "            18030840,\n",
       "            19996594,\n",
       "            21523946,\n",
       "            35702691,\n",
       "            44984134,\n",
       "            68571415}),\n",
       " frozenset({16457564, 17129546, 32907513, 90630206}),\n",
       " frozenset({15567998, 15666545, 18660360, 31352453}),\n",
       " frozenset({14120215, 21346559, 32765534, 41170823}),\n",
       " frozenset({7985982, 19323197, 51808935, 76561747}),\n",
       " frozenset({16575213, 16953895}),\n",
       " frozenset({22093555, 31986700})]"
      ]
     },
     "execution_count": 36,
     "metadata": {},
     "output_type": "execute_result"
    }
   ],
   "source": [
    "c"
   ]
  },
  {
   "cell_type": "code",
   "execution_count": 37,
   "metadata": {},
   "outputs": [
    {
     "data": {
      "text/plain": [
       "[[3839,\n",
       "  13607,\n",
       "  428333,\n",
       "  509323,\n",
       "  618593,\n",
       "  641433,\n",
       "  678083,\n",
       "  755603,\n",
       "  809760,\n",
       "  818489,\n",
       "  1057431,\n",
       "  1471021,\n",
       "  1501471,\n",
       "  1899531,\n",
       "  2029971,\n",
       "  4519121,\n",
       "  5413762,\n",
       "  5637652,\n",
       "  6598572,\n",
       "  7183482,\n",
       "  9406452,\n",
       "  9453872,\n",
       "  9663492,\n",
       "  9870342,\n",
       "  10266802,\n",
       "  10452732,\n",
       "  11340982,\n",
       "  12600372,\n",
       "  13274152,\n",
       "  14120215,\n",
       "  14120253,\n",
       "  14179822,\n",
       "  14294508,\n",
       "  14538601,\n",
       "  14538636,\n",
       "  14667274,\n",
       "  14958507,\n",
       "  14973377,\n",
       "  15028425,\n",
       "  15312009,\n",
       "  15456622,\n",
       "  15527013,\n",
       "  15534579,\n",
       "  15666545,\n",
       "  15780631,\n",
       "  15814666,\n",
       "  16107051,\n",
       "  16129920,\n",
       "  16303106,\n",
       "  16339573,\n",
       "  16457564,\n",
       "  16530279,\n",
       "  16657117,\n",
       "  16871402,\n",
       "  16901455,\n",
       "  16974245,\n",
       "  17129546,\n",
       "  17293897,\n",
       "  17643774,\n",
       "  17814635,\n",
       "  17853760,\n",
       "  17870415,\n",
       "  17870501,\n",
       "  17964423,\n",
       "  18030840,\n",
       "  18103410,\n",
       "  18166557,\n",
       "  18344173,\n",
       "  18681592,\n",
       "  18729020,\n",
       "  19320328,\n",
       "  19579040,\n",
       "  19996594,\n",
       "  21212145,\n",
       "  21346559,\n",
       "  21523946,\n",
       "  21931952,\n",
       "  22093555,\n",
       "  22559840,\n",
       "  24008967,\n",
       "  24608680,\n",
       "  27242126,\n",
       "  27463744,\n",
       "  29674222,\n",
       "  31986700,\n",
       "  32765534,\n",
       "  32907513,\n",
       "  35432497,\n",
       "  35702691,\n",
       "  36182824,\n",
       "  38272894,\n",
       "  39782670,\n",
       "  41170823,\n",
       "  44655553,\n",
       "  44984134,\n",
       "  45919912,\n",
       "  50888802,\n",
       "  51662201,\n",
       "  57186667,\n",
       "  61819621,\n",
       "  68571415,\n",
       "  75321229,\n",
       "  80273245,\n",
       "  83883736,\n",
       "  85416304,\n",
       "  90630206,\n",
       "  91718540,\n",
       "  95822575,\n",
       "  109118877,\n",
       "  126881128,\n",
       "  131884083,\n",
       "  136055942,\n",
       "  145753059,\n",
       "  197141866,\n",
       "  199032495,\n",
       "  216126534,\n",
       "  259110723],\n",
       " [7985982, 19323197, 51808935, 76561747],\n",
       " [15567998, 18660360, 31352453],\n",
       " [16575213, 16953895]]"
      ]
     },
     "execution_count": 37,
     "metadata": {},
     "output_type": "execute_result"
    }
   ],
   "source": [
    "gn_comm"
   ]
  },
  {
   "cell_type": "code",
   "execution_count": 38,
   "metadata": {},
   "outputs": [],
   "source": [
    "f = open(\"twitter/66100530.circles\")"
   ]
  },
  {
   "cell_type": "code",
   "execution_count": 39,
   "metadata": {},
   "outputs": [],
   "source": [
    "flst = f.read().splitlines() "
   ]
  },
  {
   "cell_type": "code",
   "execution_count": 40,
   "metadata": {},
   "outputs": [
    {
     "data": {
      "text/plain": [
       "['0\\t32018638', '1\\t629863\\t191124342\\t15492359\\t40302355\\t82266253']"
      ]
     },
     "execution_count": 40,
     "metadata": {},
     "output_type": "execute_result"
    }
   ],
   "source": [
    "flst"
   ]
  },
  {
   "cell_type": "code",
   "execution_count": 41,
   "metadata": {},
   "outputs": [],
   "source": [
    "groudTruth = []\n",
    "for line in flst:\n",
    "    lst = line.split(\"\\t\")\n",
    "    nodeid, lst = lst[0], lst[1:]\n",
    "    groudTruth.append(lst)"
   ]
  },
  {
   "cell_type": "code",
   "execution_count": 42,
   "metadata": {
    "scrolled": false
   },
   "outputs": [
    {
     "data": {
      "text/plain": [
       "[['32018638'], ['629863', '191124342', '15492359', '40302355', '82266253']]"
      ]
     },
     "execution_count": 42,
     "metadata": {},
     "output_type": "execute_result"
    }
   ],
   "source": [
    "groudTruth"
   ]
  },
  {
   "cell_type": "code",
   "execution_count": 43,
   "metadata": {},
   "outputs": [],
   "source": [
    "lcm = [set(x) for x in groudTruth]"
   ]
  },
  {
   "cell_type": "code",
   "execution_count": 44,
   "metadata": {},
   "outputs": [
    {
     "data": {
      "text/plain": [
       "[{'32018638'}, {'15492359', '191124342', '40302355', '629863', '82266253'}]"
      ]
     },
     "execution_count": 44,
     "metadata": {},
     "output_type": "execute_result"
    }
   ],
   "source": [
    "lcm"
   ]
  },
  {
   "cell_type": "code",
   "execution_count": 46,
   "metadata": {},
   "outputs": [],
   "source": [
    "nf = NF1(gn_comm,lpcoms)\n",
    "results = nf.summary()"
   ]
  },
  {
   "cell_type": "code",
   "execution_count": 47,
   "metadata": {},
   "outputs": [
    {
     "data": {
      "text/plain": [
       "(0.8140000000000001, 0.1339552163971228, 1.0, 0.67, 0.67)"
      ]
     },
     "execution_count": 47,
     "metadata": {},
     "output_type": "execute_result"
    }
   ],
   "source": [
    "nf.get_f1()"
   ]
  },
  {
   "cell_type": "code",
   "execution_count": 48,
   "metadata": {},
   "outputs": [
    {
     "name": "stdout",
     "output_type": "stream",
     "text": [
      "                             Value\n",
      "Index                             \n",
      "Ground Truth Communities  9.000000\n",
      "Identified Communities    4.000000\n",
      "Community Ratio           0.444444\n",
      "Ground Truth Matched      0.555556\n",
      "Node Coverage             1.000000\n",
      "NF1                       0.565278\n",
      "   F1 min  F1 max  F1 mean  F1 mode    F1 std\n",
      "0    0.67     1.0    0.814     0.67  0.133955\n"
     ]
    },
    {
     "data": {
      "image/png": "[encoded data removed]",
      "text/plain": [
       "<Figure size 432x288 with 2 Axes>"
      ]
     },
     "metadata": {
      "needs_background": "light"
     },
     "output_type": "display_data"
    }
   ],
   "source": [
    "print(results['scores'])\n",
    "print(results['details'])\n",
    "\n",
    "# Visualising the Precision-Recall density scatter-plot\n",
    "nf.plot()"
   ]
  }
 ],
 "metadata": {
  "kernelspec": {
   "display_name": "Python 3",
   "language": "python",
   "name": "python3"
  },
  "language_info": {
   "codemirror_mode": {
    "name": "ipython",
    "version": 3
   },
   "file_extension": ".py",
   "mimetype": "text/x-python",
   "name": "python",
   "nbconvert_exporter": "python",
   "pygments_lexer": "ipython3",
   "version": "3.6.9"
  }
 },
 "nbformat": 4,
 "nbformat_minor": 2
}
