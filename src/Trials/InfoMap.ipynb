{
 "cells": [
  {
   "cell_type": "markdown",
   "metadata": {},
   "source": [
    "# Import Libraries"
   ]
  },
  {
   "cell_type": "code",
   "execution_count": 1,
   "metadata": {},
   "outputs": [],
   "source": [
    "%matplotlib inline\n",
    "\n",
    "import networkx as nx\n",
    "import os\n",
    "import sklearn.cluster\n",
    "from sklearn.ensemble import RandomForestClassifier\n",
    "import pandas as pd"
   ]
  },
  {
   "cell_type": "code",
   "execution_count": 2,
   "metadata": {},
   "outputs": [],
   "source": [
    "# !python -m pip install louvain"
   ]
  },
  {
   "cell_type": "code",
   "execution_count": 4,
   "metadata": {},
   "outputs": [],
   "source": [
    "# features = readfeaturelist('')\n",
    "# print (len(features))"
   ]
  },
  {
   "cell_type": "code",
   "execution_count": 5,
   "metadata": {},
   "outputs": [],
   "source": [
    "\n",
    "import networkx as nx\n",
    "import matplotlib.pyplot as plt\n",
    "import matplotlib.colors as colors\n",
    "%matplotlib inline\n"
   ]
  },
  {
   "cell_type": "code",
   "execution_count": 6,
   "metadata": {},
   "outputs": [],
   "source": [
    "import infomap"
   ]
  },
  {
   "cell_type": "markdown",
   "metadata": {},
   "source": [
    "# Build  Graph"
   ]
  },
  {
   "cell_type": "code",
   "execution_count": 7,
   "metadata": {},
   "outputs": [],
   "source": [
    "def read_nodeadjlist(filename):\n",
    "    G = nx.DiGraph()\n",
    "    for line in open(filename):\n",
    "        lst = line.split(' ')\n",
    "        el, es = lst[0], lst[1][:-1]\n",
    "        G.add_edge(int(el),int(es))\n",
    "    return G"
   ]
  },
  {
   "cell_type": "code",
   "execution_count": 11,
   "metadata": {},
   "outputs": [],
   "source": [
    "from networkx.algorithms import community\n",
    "G = read_nodeadjlist(\"twitter/237845487.edges\")"
   ]
  },
  {
   "cell_type": "markdown",
   "metadata": {},
   "source": [
    "# Define Infomap to find Communities"
   ]
  },
  {
   "cell_type": "code",
   "execution_count": 10,
   "metadata": {},
   "outputs": [],
   "source": [
    "def findCommunities(G):\n",
    "    \n",
    "    infomapWrapper = infomap.Infomap(\"--two-level --directed\")\n",
    "    for e in G.edges():\n",
    "        infomapWrapper.addLink(*e)\n",
    "    infomapWrapper.run();\n",
    "    infomapWrapper.iterTree()\n",
    "    print(\"Found %d modules with codelength: %f\" % (infomapWrapper.numTopModules(), infomapWrapper.codelength()))\n",
    "    communities = {}\n",
    "    for node in infomapWrapper.iterTree():\n",
    "        communities[node.physicalId] = node.moduleIndex()\n",
    "    nx.set_node_attributes(G, name='community', values=communities)\n",
    "    print(communities)\n",
    "    return infomapWrapper.numTopModules()"
   ]
  },
  {
   "cell_type": "code",
   "execution_count": 12,
   "metadata": {},
   "outputs": [
    {
     "name": "stdout",
     "output_type": "stream",
     "text": [
      "Found 6 modules with codelength: 4.438695\n",
      "{0: 5, 6017542: 0, 14755492: 0, 248917209: 0, 12611642: 1, 15227791: 1, 15846682: 1, 17060265: 1, 18520053: 1, 18713254: 1, 19279990: 1, 20448269: 1, 28521141: 1, 33051095: 1, 128956175: 1, 149217510: 1, 264045662: 1, 544517731: 1, 14134204: 2, 17093617: 2, 18822966: 2, 21692297: 2, 57107167: 2, 14328339: 3, 15857462: 3, 21596877: 3, 22027992: 3, 24646282: 3, 28995973: 3, 31257471: 3, 31685653: 3, 36628828: 3, 177378039: 3, 214589342: 3, 214589522: 3, 415752096: 3, 18948541: 4, 21414413: 4, 22324642: 4, 28562317: 4, 90420314: 4, 246481013: 4, 79797834: 5}\n"
     ]
    },
    {
     "data": {
      "text/plain": [
       "6"
      ]
     },
     "execution_count": 12,
     "metadata": {},
     "output_type": "execute_result"
    }
   ],
   "source": [
    "findCommunities(G)"
   ]
  },
  {
   "cell_type": "markdown",
   "metadata": {},
   "source": [
    "# Draw output Communities"
   ]
  },
  {
   "cell_type": "code",
   "execution_count": 13,
   "metadata": {},
   "outputs": [],
   "source": [
    "def drawNetwork(G):\n",
    "    pos = nx.spring_layout(G)\n",
    "    communities = [v for k,v in nx.get_node_attributes(G, 'community').items()]\n",
    "    numCommunities = max(communities) + 1\n",
    "    cmapLight = colors.ListedColormap(['#a6cee3', '#b2df8a', '#fb9a99', '#fdbf6f', '#cab2d6'], 'indexed', numCommunities)\n",
    "    cmapDark = colors.ListedColormap(['#1f78b4', '#33a02c', '#e31a1c', '#ff7f00', '#6a3d9a'], 'indexed', numCommunities)\n",
    "    nx.draw_networkx_edges(G, pos)\n",
    "    nodeCollection = nx.draw_networkx_nodes(G,\n",
    "        pos =pos,\n",
    "        node_color = communities,\n",
    "        cmap = cmapLight\n",
    "    )\n",
    "    darkColors = [cmapDark(v) for v in communities]\n",
    "    nodeCollection.set_edgecolor(darkColors)\n",
    "    plt.axis('off')\n",
    "    plt.show()"
   ]
  },
  {
   "cell_type": "code",
   "execution_count": 14,
   "metadata": {},
   "outputs": [
    {
     "name": "stderr",
     "output_type": "stream",
     "text": [
      "C:\\Users\\Rutul Thakkar\\Anaconda3\\lib\\site-packages\\networkx\\drawing\\nx_pylab.py:579: MatplotlibDeprecationWarning: \n",
      "The iterable function was deprecated in Matplotlib 3.1 and will be removed in 3.3. Use np.iterable instead.\n",
      "  if not cb.iterable(width):\n",
      "C:\\Users\\Rutul Thakkar\\Anaconda3\\lib\\site-packages\\networkx\\drawing\\nx_pylab.py:676: MatplotlibDeprecationWarning: \n",
      "The iterable function was deprecated in Matplotlib 3.1 and will be removed in 3.3. Use np.iterable instead.\n",
      "  if cb.iterable(node_size):  # many node sizes\n"
     ]
    },
    {
     "data": {
      "image/png": "[encoded data removed]",
      "text/plain": [
       "<Figure size 432x288 with 1 Axes>"
      ]
     },
     "metadata": {},
     "output_type": "display_data"
    }
   ],
   "source": [
    "drawNetwork(G)"
   ]
  }
 ],
 "metadata": {
  "kernelspec": {
   "display_name": "Python 3",
   "language": "python",
   "name": "python3"
  },
  "language_info": {
   "codemirror_mode": {
    "name": "ipython",
    "version": 3
   },
   "file_extension": ".py",
   "mimetype": "text/x-python",
   "name": "python",
   "nbconvert_exporter": "python",
   "pygments_lexer": "ipython3",
   "version": "3.6.9"
  }
 },
 "nbformat": 4,
 "nbformat_minor": 2
}
