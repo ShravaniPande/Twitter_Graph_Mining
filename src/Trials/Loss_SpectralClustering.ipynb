{
 "cells": [
  {
   "cell_type": "code",
   "execution_count": 1,
   "metadata": {},
   "outputs": [],
   "source": [
    "import os\n",
    "from collections import defaultdict\n",
    "import random\n",
    "import sys\n",
    "from munkres import Munkres\n",
    "import numpy\n",
    "import networkx as nx"
   ]
  },
  {
   "cell_type": "code",
   "execution_count": 2,
   "metadata": {},
   "outputs": [],
   "source": [
    "from networkx.algorithms import community\n"
   ]
  },
  {
   "cell_type": "code",
   "execution_count": 3,
   "metadata": {},
   "outputs": [],
   "source": [
    "from networkx.algorithms.community import greedy_modularity_communities"
   ]
  },
  {
   "cell_type": "code",
   "execution_count": 6,
   "metadata": {},
   "outputs": [],
   "source": [
    "from sklearn.cluster import SpectralClustering"
   ]
  },
  {
   "cell_type": "code",
   "execution_count": 15,
   "metadata": {},
   "outputs": [],
   "source": [
    "import sklearn"
   ]
  },
  {
   "cell_type": "code",
   "execution_count": 7,
   "metadata": {},
   "outputs": [],
   "source": [
    "from sklearn.metrics.pairwise import cosine_similarity\n",
    "import numpy as np\n",
    "def read_features_trial_2(featname):\n",
    "    features = {}\n",
    "    featnames = []\n",
    "    nodeIdSim = {}\n",
    "    file= open(featname)\n",
    "    file_lst = file.readlines()\n",
    "    fin_rslt = [[None for i  in range(len(file_lst))] for j in range(len(file_lst))]\n",
    "    for i in range(len(file_lst)):\n",
    "        lst = file_lst[i].split(\" \")\n",
    "        nodeId1,fts1 = lst[0],lst[1:]\n",
    "        fts1 = np.asarray(fts1)\n",
    "        fts1 = fts1.reshape(1,-1) \n",
    "        j = 0\n",
    "        while(j < len(file_lst)):\n",
    "            nodeIdRel = ()\n",
    "            lst2 = file_lst[j].split(' ')            \n",
    "            nodeId2,fts2 = lst2[0],lst2[1:]\n",
    "            nodeIdRel=(nodeId1,nodeId2)\n",
    "            fts2 = np.asarray(fts2)\n",
    "            fts2 = fts2.reshape(1,-1)\n",
    "            similarity = cosine_similarity(fts1,fts2)\n",
    "            nodeIdSim[nodeIdRel] = similarity[0][0]\n",
    "            fin_rslt[i][j] = similarity[0][0]\n",
    "            j+=1\n",
    "    return fin_rslt"
   ]
  },
  {
   "cell_type": "code",
   "execution_count": 4,
   "metadata": {},
   "outputs": [],
   "source": [
    "def loss1(usersPerCircle, usersPerCircleP):\n",
    "    psize = max(len(usersPerCircle),len(usersPerCircleP)) # Pad the matrix to be square\n",
    "    mm = numpy.zeros((psize,psize))\n",
    "    mm2 = numpy.zeros((psize,psize))\n",
    "    for i in range(psize):\n",
    "        for j in range(psize):\n",
    "            circleP = set() # Match to an empty circle (delete all users)\n",
    "            circle = set() # Match to an empty circle (add all users)\n",
    "            if (i < len(usersPerCircleP)):\n",
    "                circleP = usersPerCircleP[i]\n",
    "            if (j < len(usersPerCircle)):\n",
    "                circle = usersPerCircle[j]\n",
    "            nedits = len(circle.union(circleP)) - len(circle.intersection(circleP)) # Compute the edit distance between the two circles\n",
    "            mm[i][j] = nedits\n",
    "            mm2[i][j] = nedits\n",
    "\n",
    "    if psize == 0:\n",
    "        return 0 # Edge case in case there are no circles\n",
    "    else:\n",
    "        m = Munkres()\n",
    "        #print mm2 # Print the pairwise cost matrix\n",
    "        indices = m.compute(mm) # Compute the optimal alignment between predicted and groundtruth circles\n",
    "        editCost = 0\n",
    "        for row, column in indices:\n",
    "            editCost += mm2[row][column]\n",
    "    return int(editCost)\n"
   ]
  },
  {
   "cell_type": "code",
   "execution_count": 12,
   "metadata": {},
   "outputs": [],
   "source": [
    "def read_nodeadjlist(filename):\n",
    "    G = nx.Graph()\n",
    "    for line in open(filename):\n",
    "        lst = line.split(' ')\n",
    "        el, es = lst[0], lst[1][:-1]\n",
    "        G.add_edge(int(el),int(es))\n",
    "    return G"
   ]
  },
  {
   "cell_type": "code",
   "execution_count": 10,
   "metadata": {},
   "outputs": [],
   "source": [
    "G1 = read_nodeadjlist(\"twitter/78813.edges\")"
   ]
  },
  {
   "cell_type": "code",
   "execution_count": 13,
   "metadata": {},
   "outputs": [],
   "source": [
    "def naive_spec_cluster(G,ego):\n",
    "    cl = sklearn.cluster.SpectralClustering(affinity=\"precomputed\")\n",
    "    user_feat = read_features_trial_2(\"twitter/\"+ego+\".feat\")\n",
    "    cl.fit(user_feat)\n",
    "    pred_circles ={}\n",
    "    for circle,user in zip(cl.labels_,G.nodes()):  # ordering is the same as G.nodes()\n",
    "        if circle in pred_circles:\n",
    "            pred_circles[circle].append(user)\n",
    "        else:\n",
    "            pred_circles[circle]=[user]\n",
    "    return pred_circles"
   ]
  },
  {
   "cell_type": "code",
   "execution_count": 16,
   "metadata": {},
   "outputs": [
    {
     "name": "stderr",
     "output_type": "stream",
     "text": [
      "C:\\Users\\Rutul Thakkar\\Anaconda3\\lib\\site-packages\\sklearn\\manifold\\spectral_embedding_.py:237: UserWarning: Graph is not fully connected, spectral embedding may not work as expected.\n",
      "  warnings.warn(\"Graph is not fully connected, spectral embedding\"\n"
     ]
    }
   ],
   "source": [
    "predCircle = naive_spec_cluster(G1, \"78813\")"
   ]
  },
  {
   "cell_type": "code",
   "execution_count": 17,
   "metadata": {},
   "outputs": [
    {
     "data": {
      "text/plain": [
       "{0: [11336782,\n",
       "  627363,\n",
       "  89318473,\n",
       "  14616067,\n",
       "  992031,\n",
       "  13055,\n",
       "  24454827,\n",
       "  233693208,\n",
       "  8168192,\n",
       "  14079172,\n",
       "  113963,\n",
       "  16304817,\n",
       "  353466012,\n",
       "  5637652,\n",
       "  27478849,\n",
       "  14058661,\n",
       "  5796972,\n",
       "  14371227,\n",
       "  14161531,\n",
       "  821449,\n",
       "  13753352,\n",
       "  3375371,\n",
       "  18296076,\n",
       "  121887978,\n",
       "  174853,\n",
       "  13837292,\n",
       "  13170222,\n",
       "  297623133,\n",
       "  30495974,\n",
       "  63508150,\n",
       "  1976611,\n",
       "  22328084,\n",
       "  65502805,\n",
       "  23279911,\n",
       "  2419,\n",
       "  250530254,\n",
       "  71062740,\n",
       "  1950981,\n",
       "  138034438,\n",
       "  14940487,\n",
       "  105673792,\n",
       "  6244092,\n",
       "  378130010,\n",
       "  55384770,\n",
       "  20290970,\n",
       "  18041656],\n",
       " 7: [3594701,\n",
       "  782329,\n",
       "  2195241,\n",
       "  15416485,\n",
       "  15023,\n",
       "  16993577,\n",
       "  16624991,\n",
       "  12307282,\n",
       "  24741685,\n",
       "  4044361,\n",
       "  6515122,\n",
       "  16930986,\n",
       "  12101862,\n",
       "  5746402,\n",
       "  130584631,\n",
       "  12199652,\n",
       "  1375251,\n",
       "  18852278,\n",
       "  16265198,\n",
       "  17220817,\n",
       "  21437000,\n",
       "  10461992,\n",
       "  14091119,\n",
       "  14154082,\n",
       "  621713,\n",
       "  6813682,\n",
       "  15258591,\n",
       "  15736732,\n",
       "  1847381,\n",
       "  13434092,\n",
       "  14964767,\n",
       "  16120265,\n",
       "  6271152,\n",
       "  15948437,\n",
       "  14048987,\n",
       "  229523,\n",
       "  15294787,\n",
       "  31354534,\n",
       "  4958131,\n",
       "  13535762,\n",
       "  586,\n",
       "  16186995,\n",
       "  9460662,\n",
       "  179980928,\n",
       "  11375732,\n",
       "  50393960,\n",
       "  14874480,\n",
       "  17800533,\n",
       "  19459100,\n",
       "  5725652,\n",
       "  5849202,\n",
       "  5385852,\n",
       "  17800797,\n",
       "  813491,\n",
       "  6339822,\n",
       "  7921352,\n",
       "  361943754,\n",
       "  16727022,\n",
       "  74286565,\n",
       "  297174372,\n",
       "  806170,\n",
       "  3361871,\n",
       "  263553997,\n",
       "  11323282,\n",
       "  10751252,\n",
       "  15468786,\n",
       "  9535182,\n",
       "  817386,\n",
       "  18454912,\n",
       "  182013328,\n",
       "  793219,\n",
       "  655613,\n",
       "  36412963,\n",
       "  81231895,\n",
       "  697163,\n",
       "  14278964,\n",
       "  7434252,\n",
       "  30313925,\n",
       "  758185,\n",
       "  2038,\n",
       "  17093224,\n",
       "  3558801,\n",
       "  14995801,\n",
       "  14344319,\n",
       "  5963912,\n",
       "  14405111,\n",
       "  16511126,\n",
       "  13910012,\n",
       "  1018211,\n",
       "  18208247,\n",
       "  9363302,\n",
       "  16439471,\n",
       "  643443,\n",
       "  18193396,\n",
       "  16338664,\n",
       "  26955321,\n",
       "  949161,\n",
       "  69402000,\n",
       "  10359172,\n",
       "  309206712,\n",
       "  17885184,\n",
       "  16583846,\n",
       "  18498684,\n",
       "  789314,\n",
       "  20005307,\n",
       "  13405,\n",
       "  9528212,\n",
       "  7924912,\n",
       "  9462782,\n",
       "  3388481,\n",
       "  55252378,\n",
       "  14297283,\n",
       "  19658936,\n",
       "  14976534,\n",
       "  9184682,\n",
       "  15335141,\n",
       "  17408993,\n",
       "  60146669,\n",
       "  16211399,\n",
       "  7684302,\n",
       "  161739794,\n",
       "  6217542,\n",
       "  16573941,\n",
       "  18432997,\n",
       "  156001879,\n",
       "  663273,\n",
       "  17606033,\n",
       "  198693040,\n",
       "  223048206,\n",
       "  84510198,\n",
       "  159323374,\n",
       "  171592863],\n",
       " 2: [849131,\n",
       "  5541662,\n",
       "  15438005,\n",
       "  139750288,\n",
       "  27111653,\n",
       "  14352556,\n",
       "  15363619,\n",
       "  813715,\n",
       "  5676102,\n",
       "  2384071,\n",
       "  17034634,\n",
       "  3640341,\n",
       "  11362622,\n",
       "  15033883,\n",
       "  59353626,\n",
       "  26369932,\n",
       "  14066988,\n",
       "  15437804,\n",
       "  15477919,\n",
       "  20282100,\n",
       "  11628,\n",
       "  211089576,\n",
       "  428333,\n",
       "  5435752,\n",
       "  14124059,\n",
       "  62581962,\n",
       "  61485111,\n",
       "  18139167,\n",
       "  656933,\n",
       "  5027041,\n",
       "  5497452,\n",
       "  10760422,\n",
       "  17449991,\n",
       "  16959786,\n",
       "  1594501,\n",
       "  14290339,\n",
       "  14622630,\n",
       "  114463083,\n",
       "  62083093],\n",
       " 1: [6376372, 5362182],\n",
       " 3: [14111698, 3839],\n",
       " 5: [14209885, 20793816, 16751855, 214924791],\n",
       " 6: [8091052, 16008396, 17841702, 40341246],\n",
       " 4: [137365854, 9235972]}"
      ]
     },
     "execution_count": 17,
     "metadata": {},
     "output_type": "execute_result"
    }
   ],
   "source": [
    "predCircle"
   ]
  },
  {
   "cell_type": "code",
   "execution_count": 19,
   "metadata": {},
   "outputs": [
    {
     "name": "stdout",
     "output_type": "stream",
     "text": [
      "[{8168192, 14616067, 174853, 1950981, 138034438, 13753352, 3375371, 18296076, 5637652, 22328084, 233693208, 20290970, 14371227, 353466012, 992031, 627363, 1976611, 14058661, 23279911, 24454827, 113963, 13170222, 16304817, 63508150, 18041656, 105673792, 27478849, 55384770, 14079172, 14940487, 89318473, 821449, 11336782, 250530254, 71062740, 65502805, 378130010, 297623133, 30495974, 121887978, 5796972, 13837292, 2419, 14161531, 6244092, 13055}, {17885184, 7434252, 223048206, 13535762, 1375251, 161739794, 14976534, 81231895, 19459100, 14964767, 36412963, 130584631, 26955321, 3388481, 21437000, 4044361, 586, 3361871, 1847381, 156001879, 17800797, 13405, 17093224, 5849202, 16186995, 11375732, 5385852, 18498684, 14344319, 179980928, 793219, 18208247, 5963912, 621713, 229523, 15948437, 16511126, 171592863, 15416485, 31354534, 16583846, 16930986, 15023, 6271152, 16439471, 7924912, 198693040, 309206712, 19658936, 14297283, 7921352, 361943754, 9535182, 7684302, 17220817, 14048987, 5746402, 12199652, 15335141, 12101862, 16338664, 663273, 817386, 13434092, 6339822, 159323374, 15468786, 655613, 10751252, 806170, 10461992, 2195241, 16993577, 14278964, 24741685, 789314, 15294787, 6217542, 697163, 12307282, 17800533, 14995801, 16624991, 14154082, 1018211, 297174372, 9363302, 50393960, 14091119, 14874480, 643443, 18454912, 10359172, 182013328, 3558801, 11323282, 69402000, 9528212, 17606033, 55252378, 15736732, 758185, 949161, 9184682, 6515122, 4958131, 813491, 18852278, 9460662, 20005307, 30313925, 16211399, 16120265, 3594701, 263553997, 5725652, 15258591, 17408993, 74286565, 18432997, 60146669, 16265198, 16727022, 6813682, 18193396, 16573941, 2038, 14405111, 84510198, 782329, 13910012, 9462782}, {1594501, 17449991, 17034634, 26369932, 139750288, 813715, 3640341, 62083093, 59353626, 15033883, 14124059, 5541662, 15477919, 18139167, 15363619, 14290339, 656933, 14622630, 211089576, 16959786, 14352556, 14066988, 428333, 15438005, 61485111, 11362622, 5676102, 2384071, 62581962, 5027041, 27111653, 10760422, 5435752, 849131, 15437804, 11628, 5497452, 114463083, 20282100}, {6376372, 5362182}, {14111698, 3839}, {20793816, 214924791, 14209885, 16751855}, {40341246, 16008396, 8091052, 17841702}, {9235972, 137365854}]\n"
     ]
    }
   ],
   "source": [
    "pred = []\n",
    "for key, value in predCircle.items():\n",
    "    pred.append(set(value))\n",
    "print(pred)"
   ]
  },
  {
   "cell_type": "code",
   "execution_count": null,
   "metadata": {},
   "outputs": [],
   "source": []
  },
  {
   "cell_type": "code",
   "execution_count": 24,
   "metadata": {},
   "outputs": [],
   "source": [
    "# pred_list = []\n",
    "# for circle in predCircle:\n",
    "#     for val in circle:\n",
    "#         pred_list.append(int(val))\n"
   ]
  },
  {
   "cell_type": "code",
   "execution_count": 26,
   "metadata": {},
   "outputs": [],
   "source": [
    "# set_pred = set(pred_list)"
   ]
  },
  {
   "cell_type": "code",
   "execution_count": 20,
   "metadata": {},
   "outputs": [],
   "source": [
    "# set_pred"
   ]
  },
  {
   "cell_type": "code",
   "execution_count": 21,
   "metadata": {},
   "outputs": [],
   "source": [
    "def read_circles(filename):\n",
    "    final_lst = []\n",
    "    for line in open(filename):\n",
    "        lst = line.split('\\t')\n",
    "        el, es = lst[0], lst[1:]\n",
    "        circle  =set()\n",
    "        for e in es:\n",
    "            circle.add(int(e))\n",
    "        final_lst.append(circle)\n",
    "    return final_lst"
   ]
  },
  {
   "cell_type": "code",
   "execution_count": 22,
   "metadata": {},
   "outputs": [],
   "source": [
    "gt_circles =read_circles(\"twitter/78813.circles\")"
   ]
  },
  {
   "cell_type": "code",
   "execution_count": 23,
   "metadata": {},
   "outputs": [
    {
     "data": {
      "text/plain": [
       "[{586,\n",
       "  3839,\n",
       "  113963,\n",
       "  174853,\n",
       "  229523,\n",
       "  793219,\n",
       "  813491,\n",
       "  2384071,\n",
       "  5676102,\n",
       "  11336782,\n",
       "  13535762,\n",
       "  15948437,\n",
       "  30313925,\n",
       "  50393960},\n",
       " {3839,\n",
       "  174853,\n",
       "  621713,\n",
       "  849131,\n",
       "  992031,\n",
       "  2384071,\n",
       "  5497452,\n",
       "  5637652,\n",
       "  5676102,\n",
       "  9460662,\n",
       "  11336782,\n",
       "  11362622,\n",
       "  12199652,\n",
       "  14371227,\n",
       "  14405111,\n",
       "  14964767,\n",
       "  15948437,\n",
       "  27478849,\n",
       "  50393960}]"
      ]
     },
     "execution_count": 23,
     "metadata": {},
     "output_type": "execute_result"
    }
   ],
   "source": [
    "gt_circles"
   ]
  },
  {
   "cell_type": "code",
   "execution_count": 24,
   "metadata": {},
   "outputs": [
    {
     "data": {
      "text/plain": [
       "236"
      ]
     },
     "execution_count": 24,
     "metadata": {},
     "output_type": "execute_result"
    }
   ],
   "source": [
    "loss1(pred, gt_circles)"
   ]
  },
  {
   "cell_type": "code",
   "execution_count": null,
   "metadata": {},
   "outputs": [],
   "source": []
  }
 ],
 "metadata": {
  "kernelspec": {
   "display_name": "Python 3",
   "language": "python",
   "name": "python3"
  },
  "language_info": {
   "codemirror_mode": {
    "name": "ipython",
    "version": 3
   },
   "file_extension": ".py",
   "mimetype": "text/x-python",
   "name": "python",
   "nbconvert_exporter": "python",
   "pygments_lexer": "ipython3",
   "version": "3.6.9"
  }
 },
 "nbformat": 4,
 "nbformat_minor": 2
}
