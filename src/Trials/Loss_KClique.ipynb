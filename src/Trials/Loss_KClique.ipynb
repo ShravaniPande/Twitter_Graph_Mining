{
 "cells": [
  {
   "cell_type": "code",
   "execution_count": 10,
   "metadata": {},
   "outputs": [],
   "source": [
    "import os\n",
    "from collections import defaultdict\n",
    "import random\n",
    "import sys\n",
    "from munkres import Munkres\n",
    "import numpy\n",
    "import networkx as nx"
   ]
  },
  {
   "cell_type": "code",
   "execution_count": 11,
   "metadata": {},
   "outputs": [],
   "source": [
    "from networkx.algorithms import community\n"
   ]
  },
  {
   "cell_type": "code",
   "execution_count": 8,
   "metadata": {},
   "outputs": [],
   "source": [
    "from networkx.algorithms.community import greedy_modularity_communities"
   ]
  },
  {
   "cell_type": "code",
   "execution_count": 4,
   "metadata": {},
   "outputs": [],
   "source": [
    "def loss1(usersPerCircle, usersPerCircleP):\n",
    "    psize = max(len(usersPerCircle),len(usersPerCircleP)) # Pad the matrix to be square\n",
    "    mm = numpy.zeros((psize,psize))\n",
    "    mm2 = numpy.zeros((psize,psize))\n",
    "    for i in range(psize):\n",
    "        for j in range(psize):\n",
    "            circleP = set() # Match to an empty circle (delete all users)\n",
    "            circle = set() # Match to an empty circle (add all users)\n",
    "            if (i < len(usersPerCircleP)):\n",
    "                circleP = usersPerCircleP[i]\n",
    "            if (j < len(usersPerCircle)):\n",
    "                circle = usersPerCircle[j]\n",
    "            nedits = len(circle.union(circleP)) - len(circle.intersection(circleP)) # Compute the edit distance between the two circles\n",
    "            mm[i][j] = nedits\n",
    "            mm2[i][j] = nedits\n",
    "\n",
    "    if psize == 0:\n",
    "        return 0 # Edge case in case there are no circles\n",
    "    else:\n",
    "        m = Munkres()\n",
    "        #print mm2 # Print the pairwise cost matrix\n",
    "        indices = m.compute(mm) # Compute the optimal alignment between predicted and groundtruth circles\n",
    "        editCost = 0\n",
    "        for row, column in indices:\n",
    "            editCost += mm2[row][column]\n",
    "    return int(editCost)\n"
   ]
  },
  {
   "cell_type": "code",
   "execution_count": 12,
   "metadata": {},
   "outputs": [],
   "source": [
    "def read_nodeadjlist(filename):\n",
    "    G = nx.Graph()\n",
    "    for line in open(filename):\n",
    "        lst = line.split(' ')\n",
    "        el, es = lst[0], lst[1][:-1]\n",
    "        G.add_edge(int(el),int(es))\n",
    "    return G"
   ]
  },
  {
   "cell_type": "code",
   "execution_count": 19,
   "metadata": {},
   "outputs": [],
   "source": [
    "G1 = read_nodeadjlist(\"twitter/78813.edges\")"
   ]
  },
  {
   "cell_type": "code",
   "execution_count": 41,
   "metadata": {},
   "outputs": [],
   "source": [
    "def computeKClique(inputG, k):\n",
    "    kclique = list(community.k_clique_communities(inputG , k))\n",
    "    kcoms = [set(x) for x in kclique]\n",
    "    return kcoms"
   ]
  },
  {
   "cell_type": "code",
   "execution_count": 42,
   "metadata": {},
   "outputs": [],
   "source": [
    "predCircle = computeKClique(G1, 4)"
   ]
  },
  {
   "cell_type": "code",
   "execution_count": 43,
   "metadata": {},
   "outputs": [
    {
     "data": {
      "text/plain": [
       "[{586,\n",
       "  2038,\n",
       "  2419,\n",
       "  3839,\n",
       "  11628,\n",
       "  13055,\n",
       "  13405,\n",
       "  15023,\n",
       "  113963,\n",
       "  174853,\n",
       "  229523,\n",
       "  428333,\n",
       "  621713,\n",
       "  627363,\n",
       "  643443,\n",
       "  655613,\n",
       "  697163,\n",
       "  758185,\n",
       "  782329,\n",
       "  789314,\n",
       "  793219,\n",
       "  806170,\n",
       "  813491,\n",
       "  813715,\n",
       "  817386,\n",
       "  821449,\n",
       "  849131,\n",
       "  949161,\n",
       "  992031,\n",
       "  1018211,\n",
       "  1847381,\n",
       "  2195241,\n",
       "  2384071,\n",
       "  3361871,\n",
       "  3375371,\n",
       "  3558801,\n",
       "  3594701,\n",
       "  3640341,\n",
       "  4044361,\n",
       "  4958131,\n",
       "  5027041,\n",
       "  5362182,\n",
       "  5385852,\n",
       "  5435752,\n",
       "  5497452,\n",
       "  5541662,\n",
       "  5637652,\n",
       "  5676102,\n",
       "  5725652,\n",
       "  5746402,\n",
       "  5796972,\n",
       "  5849202,\n",
       "  5963912,\n",
       "  6217542,\n",
       "  6271152,\n",
       "  6339822,\n",
       "  6376372,\n",
       "  6515122,\n",
       "  6813682,\n",
       "  7434252,\n",
       "  7684302,\n",
       "  7921352,\n",
       "  7924912,\n",
       "  8091052,\n",
       "  8168192,\n",
       "  9184682,\n",
       "  9235972,\n",
       "  9363302,\n",
       "  9460662,\n",
       "  9535182,\n",
       "  10461992,\n",
       "  10751252,\n",
       "  10760422,\n",
       "  11336782,\n",
       "  11375732,\n",
       "  12101862,\n",
       "  12199652,\n",
       "  12307282,\n",
       "  13170222,\n",
       "  13434092,\n",
       "  13535762,\n",
       "  13837292,\n",
       "  13910012,\n",
       "  14048987,\n",
       "  14058661,\n",
       "  14066988,\n",
       "  14079172,\n",
       "  14091119,\n",
       "  14111698,\n",
       "  14124059,\n",
       "  14154082,\n",
       "  14161531,\n",
       "  14209885,\n",
       "  14278964,\n",
       "  14297283,\n",
       "  14344319,\n",
       "  14352556,\n",
       "  14371227,\n",
       "  14405111,\n",
       "  14616067,\n",
       "  14874480,\n",
       "  14964767,\n",
       "  14976534,\n",
       "  15033883,\n",
       "  15258591,\n",
       "  15363619,\n",
       "  15416485,\n",
       "  15437804,\n",
       "  15438005,\n",
       "  15468786,\n",
       "  15477919,\n",
       "  15736732,\n",
       "  15948437,\n",
       "  16008396,\n",
       "  16120265,\n",
       "  16211399,\n",
       "  16265198,\n",
       "  16304817,\n",
       "  16338664,\n",
       "  16439471,\n",
       "  16511126,\n",
       "  16573941,\n",
       "  16583846,\n",
       "  16624991,\n",
       "  16727022,\n",
       "  16930986,\n",
       "  16959786,\n",
       "  16993577,\n",
       "  17034634,\n",
       "  17093224,\n",
       "  17220817,\n",
       "  17449991,\n",
       "  17800533,\n",
       "  17800797,\n",
       "  17841702,\n",
       "  18139167,\n",
       "  18193396,\n",
       "  18296076,\n",
       "  18432997,\n",
       "  18498684,\n",
       "  18852278,\n",
       "  19459100,\n",
       "  19658936,\n",
       "  20282100,\n",
       "  20793816,\n",
       "  21437000,\n",
       "  23279911,\n",
       "  24454827,\n",
       "  24741685,\n",
       "  26369932,\n",
       "  26955321,\n",
       "  27111653,\n",
       "  27478849,\n",
       "  30313925,\n",
       "  30495974,\n",
       "  31354534,\n",
       "  36412963,\n",
       "  40341246,\n",
       "  50393960,\n",
       "  55252378,\n",
       "  59353626,\n",
       "  60146669,\n",
       "  62581962,\n",
       "  69402000,\n",
       "  71062740,\n",
       "  74286565,\n",
       "  81231895,\n",
       "  89318473,\n",
       "  114463083,\n",
       "  130584631,\n",
       "  137365854,\n",
       "  139750288,\n",
       "  161739794,\n",
       "  198693040,\n",
       "  223048206,\n",
       "  233693208,\n",
       "  263553997,\n",
       "  297174372,\n",
       "  297623133,\n",
       "  309206712,\n",
       "  353466012,\n",
       "  361943754},\n",
       " {1375251, 14111698, 14976534, 16993577},\n",
       " {643443, 655613, 1018211, 13837292},\n",
       " {655613, 17220817, 20005307, 20793816}]"
      ]
     },
     "execution_count": 43,
     "metadata": {},
     "output_type": "execute_result"
    }
   ],
   "source": [
    "predCircle"
   ]
  },
  {
   "cell_type": "code",
   "execution_count": 24,
   "metadata": {},
   "outputs": [],
   "source": [
    "# pred_list = []\n",
    "# for circle in predCircle:\n",
    "#     for val in circle:\n",
    "#         pred_list.append(int(val))\n"
   ]
  },
  {
   "cell_type": "code",
   "execution_count": 26,
   "metadata": {},
   "outputs": [],
   "source": [
    "set_pred = set(pred_list)"
   ]
  },
  {
   "cell_type": "code",
   "execution_count": 27,
   "metadata": {},
   "outputs": [
    {
     "data": {
      "text/plain": [
       "{3839,\n",
       " 13607,\n",
       " 428333,\n",
       " 509323,\n",
       " 618593,\n",
       " 641433,\n",
       " 755603,\n",
       " 809760,\n",
       " 818489,\n",
       " 1057431,\n",
       " 1471021,\n",
       " 1501471,\n",
       " 2029971,\n",
       " 4519121,\n",
       " 5413762,\n",
       " 6598572,\n",
       " 7183482,\n",
       " 9406452,\n",
       " 9870342,\n",
       " 10266802,\n",
       " 11340982,\n",
       " 12600372,\n",
       " 14120253,\n",
       " 14667274,\n",
       " 14958507,\n",
       " 15456622,\n",
       " 15527013,\n",
       " 15780631,\n",
       " 15814666,\n",
       " 16107051,\n",
       " 16129920,\n",
       " 16303106,\n",
       " 16457564,\n",
       " 16530279,\n",
       " 16901455,\n",
       " 17129546,\n",
       " 17643774,\n",
       " 17853760,\n",
       " 17870415,\n",
       " 17870501,\n",
       " 18030840,\n",
       " 18681592,\n",
       " 19579040,\n",
       " 19996594,\n",
       " 21212145,\n",
       " 21523946,\n",
       " 21931952,\n",
       " 27242126,\n",
       " 27463744,\n",
       " 35702691,\n",
       " 38272894,\n",
       " 39782670,\n",
       " 44984134,\n",
       " 50888802,\n",
       " 57186667,\n",
       " 61819621,\n",
       " 68571415,\n",
       " 85416304,\n",
       " 90630206,\n",
       " 91718540,\n",
       " 95822575,\n",
       " 131884083,\n",
       " 136055942,\n",
       " 145753059,\n",
       " 197141866,\n",
       " 199032495,\n",
       " 216126534,\n",
       " 259110723}"
      ]
     },
     "execution_count": 27,
     "metadata": {},
     "output_type": "execute_result"
    }
   ],
   "source": [
    "set_pred"
   ]
  },
  {
   "cell_type": "code",
   "execution_count": 36,
   "metadata": {},
   "outputs": [],
   "source": [
    "def read_circles(filename):\n",
    "    final_lst = []\n",
    "    for line in open(filename):\n",
    "        lst = line.split('\\t')\n",
    "        el, es = lst[0], lst[1:]\n",
    "        circle  =set()\n",
    "        for e in es:\n",
    "            circle.add(int(e))\n",
    "        final_lst.append(circle)\n",
    "    return final_lst"
   ]
  },
  {
   "cell_type": "code",
   "execution_count": 37,
   "metadata": {},
   "outputs": [],
   "source": [
    "gt_circles =read_circles(\"twitter/78813.circles\")"
   ]
  },
  {
   "cell_type": "code",
   "execution_count": 38,
   "metadata": {},
   "outputs": [
    {
     "data": {
      "text/plain": [
       "[{586,\n",
       "  3839,\n",
       "  113963,\n",
       "  174853,\n",
       "  229523,\n",
       "  793219,\n",
       "  813491,\n",
       "  2384071,\n",
       "  5676102,\n",
       "  11336782,\n",
       "  13535762,\n",
       "  15948437,\n",
       "  30313925,\n",
       "  50393960},\n",
       " {3839,\n",
       "  174853,\n",
       "  621713,\n",
       "  849131,\n",
       "  992031,\n",
       "  2384071,\n",
       "  5497452,\n",
       "  5637652,\n",
       "  5676102,\n",
       "  9460662,\n",
       "  11336782,\n",
       "  11362622,\n",
       "  12199652,\n",
       "  14371227,\n",
       "  14405111,\n",
       "  14964767,\n",
       "  15948437,\n",
       "  27478849,\n",
       "  50393960}]"
      ]
     },
     "execution_count": 38,
     "metadata": {},
     "output_type": "execute_result"
    }
   ],
   "source": [
    "gt_circles"
   ]
  },
  {
   "cell_type": "code",
   "execution_count": 44,
   "metadata": {},
   "outputs": [
    {
     "data": {
      "text/plain": [
       "191"
      ]
     },
     "execution_count": 44,
     "metadata": {},
     "output_type": "execute_result"
    }
   ],
   "source": [
    "loss1(predCircle, gt_circles)"
   ]
  },
  {
   "cell_type": "code",
   "execution_count": null,
   "metadata": {},
   "outputs": [],
   "source": []
  }
 ],
 "metadata": {
  "kernelspec": {
   "display_name": "Python 3",
   "language": "python",
   "name": "python3"
  },
  "language_info": {
   "codemirror_mode": {
    "name": "ipython",
    "version": 3
   },
   "file_extension": ".py",
   "mimetype": "text/x-python",
   "name": "python",
   "nbconvert_exporter": "python",
   "pygments_lexer": "ipython3",
   "version": "3.6.9"
  }
 },
 "nbformat": 4,
 "nbformat_minor": 2
}
